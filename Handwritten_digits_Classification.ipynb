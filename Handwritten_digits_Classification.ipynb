{
 "cells": [
  {
   "cell_type": "markdown",
   "metadata": {
    "id": "YhI1GckXMdhw"
   },
   "source": [
    "# **Handwritten Digits Recognition Using Convolutional Neural Network.**\n",
    "\n",
    "---\n",
    "\n",
    "\n",
    "\n"
   ]
  },
  {
   "cell_type": "markdown",
   "metadata": {
    "id": "B1YcJ2jCn5l5"
   },
   "source": [
    "## **Some Details of the dataset we'll use for this model:**\n",
    "The MNIST dataset is an acronym that stands for the Modified National Institute of Standards and Technology dataset.The dataset contains 60,000 small square 28x28 pixel grayscaleimages of handwritten digits between 0 and 9. The task is to classify a given image of a handwritten digit into one of classes representing integer values from 0 to 9, inclusively."
   ]
  },
  {
   "cell_type": "markdown",
   "metadata": {
    "id": "a4VS69PRN2GR"
   },
   "source": [
    "## **What is Handwritten Digit Recognition?**\n",
    "The handwritten digit recognition is the ability of computers to recognize human handwritten digits. It is a hard task for the machine because handwritten digits are not perfect and can be made with many different flavors. The handwritten digit recognition is the solution to this problem which uses the image of a digit and recognizes the digit present in the image. As the machine get trained on various types of handwritten digits images."
   ]
  },
  {
   "cell_type": "markdown",
   "metadata": {
    "id": "8TjK3EVJpLAP"
   },
   "source": [
    "# **1.) IMPORTING LIBRARIES**"
   ]
  },
  {
   "cell_type": "code",
   "execution_count": 75,
   "metadata": {
    "id": "GKpv9ObNpIfD"
   },
   "outputs": [],
   "source": [
    "import numpy as np\n",
    "import pandas as pd\n",
    "from matplotlib import pyplot as plt\n",
    "%matplotlib inline\n",
    "import seaborn as sns\n",
    "from tensorflow import keras\n",
    "from tensorflow.keras import layers\n",
    "from tensorflow.keras import Sequential \n",
    "from sklearn.model_selection import KFold"
   ]
  },
  {
   "cell_type": "markdown",
   "metadata": {
    "id": "uzG_i363PUnt"
   },
   "source": [
    "# **2.) Loading the MNIST dataset directly from the keras.datasets**"
   ]
  },
  {
   "cell_type": "code",
   "execution_count": 76,
   "metadata": {
    "id": "SvImEdPgn8pC"
   },
   "outputs": [],
   "source": [
    "from tensorflow.keras.datasets import mnist\n",
    "(x_train, y_train), (x_test, y_test) = mnist.load_data()"
   ]
  },
  {
   "cell_type": "markdown",
   "metadata": {
    "id": "SaS5RzPTPmte"
   },
   "source": [
    "# **3.) Checking the shape of the images for training and testing the model.**"
   ]
  },
  {
   "cell_type": "code",
   "execution_count": 77,
   "metadata": {
    "colab": {
     "base_uri": "https://localhost:8080/"
    },
    "id": "PHnM-2DygKFJ",
    "outputId": "ab503909-bdfc-4287-e62c-3f766ecf4ca6"
   },
   "outputs": [
    {
     "data": {
      "text/plain": [
       "(60000, 28, 28)"
      ]
     },
     "execution_count": 77,
     "metadata": {},
     "output_type": "execute_result"
    }
   ],
   "source": [
    "x_train.shape"
   ]
  },
  {
   "cell_type": "code",
   "execution_count": 78,
   "metadata": {
    "colab": {
     "base_uri": "https://localhost:8080/"
    },
    "id": "XDsrCbriqBCQ",
    "outputId": "f63baa23-762a-4668-bee3-8d765545c619"
   },
   "outputs": [
    {
     "data": {
      "text/plain": [
       "(10000, 28, 28)"
      ]
     },
     "execution_count": 78,
     "metadata": {},
     "output_type": "execute_result"
    }
   ],
   "source": [
    "x_test.shape"
   ]
  },
  {
   "cell_type": "code",
   "execution_count": 79,
   "metadata": {
    "colab": {
     "base_uri": "https://localhost:8080/"
    },
    "id": "Wsd-YtvXqC82",
    "outputId": "b455aeac-7ff7-46ce-e8c4-ba970848f824"
   },
   "outputs": [
    {
     "data": {
      "text/plain": [
       "(60000,)"
      ]
     },
     "execution_count": 79,
     "metadata": {},
     "output_type": "execute_result"
    }
   ],
   "source": [
    "y_train.shape"
   ]
  },
  {
   "cell_type": "code",
   "execution_count": 80,
   "metadata": {
    "colab": {
     "base_uri": "https://localhost:8080/"
    },
    "id": "8qChFEWDqEfs",
    "outputId": "248460c4-c920-492c-d4cc-49338cf89f82"
   },
   "outputs": [
    {
     "data": {
      "text/plain": [
       "(10000,)"
      ]
     },
     "execution_count": 80,
     "metadata": {},
     "output_type": "execute_result"
    }
   ],
   "source": [
    "y_test.shape"
   ]
  },
  {
   "cell_type": "markdown",
   "metadata": {
    "id": "SH_v2PNjmS0a"
   },
   "source": [
    "* From the above outputs, We can observe that the training dataset contains 60,000 samples and testing dataset contains 10,000 samples."
   ]
  },
  {
   "cell_type": "markdown",
   "metadata": {
    "id": "M0Q8APJO1BMT"
   },
   "source": [
    "# **4.) Visualizing the first 20 training samples of handwritten digits between 0 to 9**"
   ]
  },
  {
   "cell_type": "code",
   "execution_count": 81,
   "metadata": {
    "colab": {
     "base_uri": "https://localhost:8080/",
     "height": 589
    },
    "id": "z510146vx8VM",
    "outputId": "fae58604-1d4b-4fec-8b37-dcf5381a403a"
   },
   "outputs": [
    {
     "data": {
      "image/png": "[encoded data removed]",
      "text/plain": [
       "<Figure size 1440x720 with 20 Axes>"
      ]
     },
     "metadata": {},
     "output_type": "display_data"
    }
   ],
   "source": [
    "plt.figure(figsize=(20,10))\n",
    "for i in range(0,20):\n",
    "  plt.subplot(4,5,i+1)\n",
    "  plt.xticks([])\n",
    "  plt.yticks([])\n",
    "  plt.imshow(x_train[i],cmap=plt.cm.binary)\n",
    "  plt.xlabel(y_train[i])\n",
    "plt.show()"
   ]
  },
  {
   "cell_type": "markdown",
   "metadata": {
    "id": "AVMFtFsG1WOP"
   },
   "source": [
    "# **5.) Data - Preprocessing**\n",
    "The images cannot be fed directly into the model so we need to perform some operations and process the data. The dimension of the training data is (60000,28,28) as we observed above. The CNN model will require one more dimension so we reshape the matrix to shape (60000,28,28,1)."
   ]
  },
  {
   "cell_type": "code",
   "execution_count": 82,
   "metadata": {
    "id": "r8dB5IrNySyR"
   },
   "outputs": [],
   "source": [
    "num_of_classes = 10"
   ]
  },
  {
   "cell_type": "markdown",
   "metadata": {
    "id": "AW4CD4uL1z0N"
   },
   "source": [
    "### **a.) Reshape the images to a single channel**\n",
    "As we seen above the images are grayscale. Therefore, we reshape the data arrays to have a single color channel."
   ]
  },
  {
   "cell_type": "code",
   "execution_count": 83,
   "metadata": {
    "id": "APNONvM-1dBO"
   },
   "outputs": [],
   "source": [
    "x_train = x_train.reshape((x_train.shape[0], 28, 28, 1))\n",
    "x_test= x_test.reshape((x_test.shape[0], 28, 28, 1))"
   ]
  },
  {
   "cell_type": "markdown",
   "metadata": {
    "id": "mjWo9KMq1tKx"
   },
   "source": [
    "### **b.) Convert class vectors to binary class matrices**\n",
    "We also know that there are 10 classes for 0 to 9 digits and that classes are represented as unique integers.\n",
    "We can, therefore, use a one hot encoding for the class element of each sample, transforming the integer into a 10 element binary vector with a 1 for the index of the class value. We can achieve this with the to_categorical() utility function."
   ]
  },
  {
   "cell_type": "code",
   "execution_count": 84,
   "metadata": {
    "id": "qIN4LB-a1dEK"
   },
   "outputs": [],
   "source": [
    "y_train = keras.utils.to_categorical(y_train)\n",
    "y_test = keras.utils.to_categorical(y_test)"
   ]
  },
  {
   "cell_type": "markdown",
   "metadata": {
    "id": "yERjPamWfEwP"
   },
   "source": [
    "### **c.) Convert from integers to floats and scale the images to range 0-1**\n",
    "We know that the pixel values for each image in the dataset are unsigned integers in the range between 0 and 255.\n",
    "We do scaling as 255 is a big number as and it took more computational time while training the model. So we just scale the pixel values between 0 and 1 so that it take less computational time.\n",
    "First converting the data type from integers to floats, then dividing the pixel values by the maximum value."
   ]
  },
  {
   "cell_type": "code",
   "execution_count": 85,
   "metadata": {
    "id": "Ny_tMlzDe7KW"
   },
   "outputs": [],
   "source": [
    "x_train = x_train.astype('float32')\n",
    "x_test= x_test.astype('float32')\n",
    "\t\n",
    "x_train = x_train / 255.0\n",
    "x_test = x_test / 255.0\t"
   ]
  },
  {
   "cell_type": "markdown",
   "metadata": {
    "id": "R6NJZutlRGdn"
   },
   "source": [
    "# **6.) CNN Model Creation**\n",
    "A CNN model generally consists of convolutional and pooling layers. It works better for data that are represented as grid structures, this is the reason why CNN works well for image classification problems. The dropout layer is used to deactivate some of the neurons and while training, it reduces offer fitting of the model. "
   ]
  },
  {
   "cell_type": "code",
   "execution_count": 86,
   "metadata": {
    "id": "S9yaWSjI1dHM"
   },
   "outputs": [],
   "source": [
    "digit_recogonizer_model = Sequential(\n",
    "    [\n",
    "        keras.Input(shape = (28,28,1)),\n",
    "        \n",
    "        layers.Conv2D(32, kernel_size=(3, 3), padding=\"same\",activation=\"relu\"),\n",
    "        layers.MaxPooling2D(pool_size=(2, 2)),\n",
    "        layers.Conv2D(64, kernel_size=(3, 3), activation=\"relu\"),\n",
    "        layers.MaxPooling2D(pool_size=(2, 2)),\n",
    "        \n",
    "        layers.Conv2D(128, kernel_size=(3, 3), activation=\"relu\"),\n",
    "        layers.MaxPooling2D(pool_size=(2, 2)),\n",
    "        \n",
    "        \n",
    "        layers.Flatten(),\n",
    "        layers.Dropout(0.5),\n",
    "        \n",
    "        layers.Dense(num_of_classes, activation=\"softmax\"),\n",
    "    ])"
   ]
  },
  {
   "cell_type": "code",
   "execution_count": 87,
   "metadata": {
    "colab": {
     "base_uri": "https://localhost:8080/"
    },
    "id": "90C18kKh5-gZ",
    "outputId": "44364324-d952-46d7-d727-aef0859dcc0d"
   },
   "outputs": [
    {
     "name": "stdout",
     "output_type": "stream",
     "text": [
      "Model: \"sequential_8\"\n",
      "_________________________________________________________________\n",
      " Layer (type)                Output Shape              Param #   \n",
      "=================================================================\n",
      " conv2d_11 (Conv2D)          (None, 28, 28, 32)        320       \n",
      "                                                                 \n",
      " max_pooling2d_11 (MaxPoolin  (None, 14, 14, 32)       0         \n",
      " g2D)                                                            \n",
      "                                                                 \n",
      " conv2d_12 (Conv2D)          (None, 12, 12, 64)        18496     \n",
      "                                                                 \n",
      " max_pooling2d_12 (MaxPoolin  (None, 6, 6, 64)         0         \n",
      " g2D)                                                            \n",
      "                                                                 \n",
      " conv2d_13 (Conv2D)          (None, 4, 4, 128)         73856     \n",
      "                                                                 \n",
      " max_pooling2d_13 (MaxPoolin  (None, 2, 2, 128)        0         \n",
      " g2D)                                                            \n",
      "                                                                 \n",
      " flatten_9 (Flatten)         (None, 512)               0         \n",
      "                                                                 \n",
      " dropout_1 (Dropout)         (None, 512)               0         \n",
      "                                                                 \n",
      " dense_15 (Dense)            (None, 10)                5130      \n",
      "                                                                 \n",
      "=================================================================\n",
      "Total params: 97,802\n",
      "Trainable params: 97,802\n",
      "Non-trainable params: 0\n",
      "_________________________________________________________________\n"
     ]
    }
   ],
   "source": [
    "digit_recogonizer_model.summary()"
   ]
  },
  {
   "cell_type": "markdown",
   "metadata": {
    "id": "EMX5Fq606qop"
   },
   "source": [
    "# **7.) Fitting the model**\n",
    "The dataset already has a well-defined train and test dataset that we can use.\n",
    "\n",
    "In order to estimate the performance of a model for a given training run, we can further split the training set into a train and validation dataset. \n",
    "\n",
    "The Keras API supports this by specifying the “validation_data” argument to the model.fit() function when training the model."
   ]
  },
  {
   "cell_type": "markdown",
   "metadata": {
    "id": "nkOYqUrHS6PJ"
   },
   "source": [
    "# **What is h5 file?**\n",
    "H5 is a file format to store structured data, it's not a model by itself. Keras saves models in this format as it can easily store the weights and model configuration in a single file.\n"
   ]
  },
  {
   "cell_type": "code",
   "execution_count": 88,
   "metadata": {
    "colab": {
     "base_uri": "https://localhost:8080/"
    },
    "id": "lKpq2qQ06FAR",
    "outputId": "81a28174-af6e-45b5-db88-b0e3b13d5297"
   },
   "outputs": [
    {
     "name": "stdout",
     "output_type": "stream",
     "text": [
      "Epoch 1/30\n",
      "1875/1875 [==============================] - 73s 39ms/step - loss: 0.2095 - accuracy: 0.9341 - val_loss: 0.0508 - val_accuracy: 0.9842\n",
      "Epoch 2/30\n",
      "1875/1875 [==============================] - 72s 39ms/step - loss: 0.0689 - accuracy: 0.9787 - val_loss: 0.0328 - val_accuracy: 0.9899\n",
      "Epoch 3/30\n",
      "1875/1875 [==============================] - 73s 39ms/step - loss: 0.0531 - accuracy: 0.9838 - val_loss: 0.0308 - val_accuracy: 0.9895\n",
      "Epoch 4/30\n",
      "1875/1875 [==============================] - 76s 40ms/step - loss: 0.0444 - accuracy: 0.9862 - val_loss: 0.0264 - val_accuracy: 0.9903\n",
      "Epoch 5/30\n",
      "1875/1875 [==============================] - 98s 52ms/step - loss: 0.0358 - accuracy: 0.9887 - val_loss: 0.0214 - val_accuracy: 0.9930\n",
      "Epoch 6/30\n",
      "1875/1875 [==============================] - 78s 42ms/step - loss: 0.0313 - accuracy: 0.9901 - val_loss: 0.0256 - val_accuracy: 0.9913\n",
      "Epoch 7/30\n",
      "1875/1875 [==============================] - 83s 44ms/step - loss: 0.0286 - accuracy: 0.9902 - val_loss: 0.0227 - val_accuracy: 0.9925\n",
      "Epoch 8/30\n",
      "1875/1875 [==============================] - 79s 42ms/step - loss: 0.0253 - accuracy: 0.9921 - val_loss: 0.0223 - val_accuracy: 0.9929\n",
      "Epoch 9/30\n",
      "1875/1875 [==============================] - 74s 39ms/step - loss: 0.0218 - accuracy: 0.9926 - val_loss: 0.0243 - val_accuracy: 0.9933\n",
      "Epoch 10/30\n",
      "1875/1875 [==============================] - 86s 46ms/step - loss: 0.0221 - accuracy: 0.9930 - val_loss: 0.0232 - val_accuracy: 0.9927\n",
      "Epoch 11/30\n",
      "1875/1875 [==============================] - 81s 43ms/step - loss: 0.0197 - accuracy: 0.9938 - val_loss: 0.0201 - val_accuracy: 0.9929\n",
      "Epoch 12/30\n",
      "1875/1875 [==============================] - 77s 41ms/step - loss: 0.0186 - accuracy: 0.9941 - val_loss: 0.0235 - val_accuracy: 0.9931\n",
      "Epoch 13/30\n",
      "1875/1875 [==============================] - 93s 50ms/step - loss: 0.0165 - accuracy: 0.9947 - val_loss: 0.0288 - val_accuracy: 0.9924\n",
      "Epoch 14/30\n",
      "1875/1875 [==============================] - 94s 50ms/step - loss: 0.0157 - accuracy: 0.9946 - val_loss: 0.0259 - val_accuracy: 0.9927\n",
      "Epoch 15/30\n",
      "1875/1875 [==============================] - 76s 41ms/step - loss: 0.0134 - accuracy: 0.9955 - val_loss: 0.0228 - val_accuracy: 0.9937\n",
      "Epoch 16/30\n",
      "1875/1875 [==============================] - 71s 38ms/step - loss: 0.0151 - accuracy: 0.9952 - val_loss: 0.0225 - val_accuracy: 0.9937\n",
      "Epoch 17/30\n",
      "1875/1875 [==============================] - 79s 42ms/step - loss: 0.0128 - accuracy: 0.9957 - val_loss: 0.0277 - val_accuracy: 0.9927\n",
      "Epoch 18/30\n",
      "1875/1875 [==============================] - 71s 38ms/step - loss: 0.0131 - accuracy: 0.9958 - val_loss: 0.0219 - val_accuracy: 0.9939\n",
      "Epoch 19/30\n",
      "1875/1875 [==============================] - 71s 38ms/step - loss: 0.0114 - accuracy: 0.9961 - val_loss: 0.0237 - val_accuracy: 0.9939\n",
      "Epoch 20/30\n",
      "1875/1875 [==============================] - 70s 37ms/step - loss: 0.0124 - accuracy: 0.9959 - val_loss: 0.0259 - val_accuracy: 0.9937\n",
      "Epoch 21/30\n",
      "1875/1875 [==============================] - 71s 38ms/step - loss: 0.0111 - accuracy: 0.9962 - val_loss: 0.0321 - val_accuracy: 0.9923\n",
      "Epoch 22/30\n",
      "1875/1875 [==============================] - 72s 38ms/step - loss: 0.0119 - accuracy: 0.9962 - val_loss: 0.0232 - val_accuracy: 0.9945\n",
      "Epoch 23/30\n",
      "1875/1875 [==============================] - 70s 37ms/step - loss: 0.0090 - accuracy: 0.9970 - val_loss: 0.0257 - val_accuracy: 0.9932\n",
      "Epoch 24/30\n",
      "1875/1875 [==============================] - 70s 37ms/step - loss: 0.0116 - accuracy: 0.9963 - val_loss: 0.0234 - val_accuracy: 0.9934\n",
      "Epoch 25/30\n",
      "1875/1875 [==============================] - 71s 38ms/step - loss: 0.0106 - accuracy: 0.9965 - val_loss: 0.0287 - val_accuracy: 0.9931\n",
      "Epoch 26/30\n",
      "1875/1875 [==============================] - 73s 39ms/step - loss: 0.0085 - accuracy: 0.9970 - val_loss: 0.0301 - val_accuracy: 0.9941\n",
      "Epoch 27/30\n",
      "1875/1875 [==============================] - 72s 39ms/step - loss: 0.0101 - accuracy: 0.9968 - val_loss: 0.0269 - val_accuracy: 0.9938\n",
      "Epoch 28/30\n",
      "1875/1875 [==============================] - 71s 38ms/step - loss: 0.0097 - accuracy: 0.9968 - val_loss: 0.0263 - val_accuracy: 0.9941\n",
      "Epoch 29/30\n",
      "1875/1875 [==============================] - 72s 38ms/step - loss: 0.0090 - accuracy: 0.9972 - val_loss: 0.0329 - val_accuracy: 0.9933\n",
      "Epoch 30/30\n",
      "1875/1875 [==============================] - 71s 38ms/step - loss: 0.0095 - accuracy: 0.9969 - val_loss: 0.0302 - val_accuracy: 0.9940\n",
      "The model has successfully trained\n",
      "Model has been successfully saved!\n"
     ]
    }
   ],
   "source": [
    "digit_recogonizer_model.compile(loss=\"categorical_crossentropy\",optimizer=\"adam\",metrics=[\"accuracy\"])\n",
    "history = digit_recogonizer_model.fit(x_train, y_train,batch_size=32,epochs=30,verbose=1,validation_data=(x_test, y_test))\n",
    "print(\"The model has successfully trained\")\n",
    "digit_recogonizer_model.save('mnist.h5')\n",
    "print(\"Model has been successfully saved!\")"
   ]
  },
  {
   "cell_type": "markdown",
   "metadata": {
    "id": "2YVEJE6NghcV"
   },
   "source": [
    "# **8.) Displaying curves of loss and accuracy during training.**"
   ]
  },
  {
   "cell_type": "code",
   "execution_count": 89,
   "metadata": {
    "colab": {
     "base_uri": "https://localhost:8080/",
     "height": 573
    },
    "id": "wk1c5DS5gZCb",
    "outputId": "e6eb2bda-0eb6-44c5-93f9-763b553024c0"
   },
   "outputs": [
    {
     "data": {
      "image/png": "[encoded data removed]",
      "text/plain": [
       "<Figure size 432x288 with 1 Axes>"
      ]
     },
     "metadata": {
      "needs_background": "light"
     },
     "output_type": "display_data"
    },
    {
     "data": {
      "image/png": "[encoded data removed]",
      "text/plain": [
       "<Figure size 432x288 with 1 Axes>"
      ]
     },
     "metadata": {
      "needs_background": "light"
     },
     "output_type": "display_data"
    }
   ],
   "source": [
    "import matplotlib.pyplot as plt\n",
    "accuracy = history.history['accuracy']\n",
    "val_accuracy = history.history['val_accuracy']\n",
    "loss = history.history[\"loss\"]\n",
    "val_loss = history.history[\"val_loss\"]\n",
    "epochs = range(1,len(accuracy)+1)\n",
    "\n",
    "plt.plot(epochs,accuracy,\"r\",label = \"Training accuracy\")\n",
    "plt.plot(epochs,val_accuracy,\"b\",label=\"Validation accuracy\")\n",
    "plt.title(\"Training and Validation Accuracy\")\n",
    "plt.xlabel(\"Epochs\")\n",
    "plt.ylabel(\"Acuuracy\")\n",
    "plt.legend()\n",
    "plt.figure()\n",
    "plt.plot(epochs,loss,\"r\",label = \"Training loss\")\n",
    "plt.plot(epochs,val_loss,\"b\",label = \"Validation loss\")\n",
    "plt.title(\"Training and Validation Loss\")\n",
    "plt.xlabel(\"Epochs\")\n",
    "plt.ylabel(\"Loss\")\n",
    "plt.legend()\n",
    "plt.show()"
   ]
  },
  {
   "cell_type": "markdown",
   "metadata": {
    "id": "f6xFIHjLkkH2"
   },
   "source": [
    "# **9.) Model Evaluation on training data:**"
   ]
  },
  {
   "cell_type": "code",
   "execution_count": 90,
   "metadata": {
    "colab": {
     "base_uri": "https://localhost:8080/"
    },
    "id": "HTYRviCi4slp",
    "outputId": "2dad952e-5559-4297-e728-06bdc7e905f5"
   },
   "outputs": [
    {
     "name": "stdout",
     "output_type": "stream",
     "text": [
      "Training loss: 0.0009059311123564839\n",
      "Training accuracy: 0.9997333288192749\n"
     ]
    }
   ],
   "source": [
    "score = digit_recogonizer_model.evaluate(x_train, y_train, verbose=0)\n",
    "print(\"Training loss:\", score[0])\n",
    "print(\"Training accuracy:\", score[1])"
   ]
  },
  {
   "cell_type": "markdown",
   "metadata": {
    "id": "Q_0E3HSuk457"
   },
   "source": [
    "# **10.) Evaluation on testing data:**"
   ]
  },
  {
   "cell_type": "code",
   "execution_count": 91,
   "metadata": {
    "colab": {
     "base_uri": "https://localhost:8080/"
    },
    "id": "64bsJ4tV7Zzw",
    "outputId": "321f79d4-beab-42a0-88c6-4fd880a84b32"
   },
   "outputs": [
    {
     "name": "stdout",
     "output_type": "stream",
     "text": [
      "Test loss: 0.03016958385705948\n",
      "Test accuracy: 0.9940000176429749\n"
     ]
    }
   ],
   "source": [
    "score = digit_recogonizer_model.evaluate(x_test, y_test, verbose=0)\n",
    "print(\"Test loss:\", score[0])\n",
    "print(\"Test accuracy:\", score[1])"
   ]
  },
  {
   "cell_type": "markdown",
   "metadata": {
    "id": "x29xGHTzlE_m"
   },
   "source": [
    "# **11.) Predictions made by the model:**\n",
    "\n",
    "The numpy. argmax() function returns indices of the max element of the array in a particular axis.\n"
   ]
  },
  {
   "cell_type": "code",
   "execution_count": 92,
   "metadata": {
    "id": "ff1qijxLCKHs"
   },
   "outputs": [],
   "source": [
    "classes_y_test = np.argmax(y_test, axis=1)\n",
    "y_predict = digit_recogonizer_model.predict(x_test) \n",
    "classes_y_predict = np.argmax(y_predict,axis=1)"
   ]
  },
  {
   "cell_type": "code",
   "execution_count": 93,
   "metadata": {
    "colab": {
     "base_uri": "https://localhost:8080/"
    },
    "id": "NdmfRXkU_Q3D",
    "outputId": "e78460dc-2563-47a7-fff5-de183732917b"
   },
   "outputs": [
    {
     "name": "stdout",
     "output_type": "stream",
     "text": [
      "label ->  4\n",
      "prediction ->  4\n"
     ]
    }
   ],
   "source": [
    "print('label -> ',classes_y_test[19])\n",
    "print('prediction -> ',classes_y_predict[19])"
   ]
  },
  {
   "cell_type": "code",
   "execution_count": 94,
   "metadata": {
    "colab": {
     "base_uri": "https://localhost:8080/"
    },
    "id": "6dsJC4Ry6exc",
    "outputId": "65c8d0da-8b5d-4be0-88b3-cd366c3748e2"
   },
   "outputs": [
    {
     "name": "stdout",
     "output_type": "stream",
     "text": [
      "label ->  9\n",
      "prediction ->  9\n"
     ]
    }
   ],
   "source": [
    "print('label -> ',classes_y_test[3001])\n",
    "print('prediction -> ',classes_y_predict[3001])"
   ]
  },
  {
   "cell_type": "markdown",
   "metadata": {
    "id": "t2ZWV6VBsZH6"
   },
   "source": [
    "# **12.) KFold Cross-Validation**\n",
    "In order to estimate the performance of a model on the problem in general, we can use k-fold cross-validation, perhaps 5-fold cross-validation. This will give some account of the model’s variance with both respect to differences in the training and testing datasets.\n",
    "\n",
    "The performance of a model can be taken as the mean performance across k-folds, given with the standard deviation, that could be used to estimate a confidence interval if desired.\n",
    "\n",
    "We can use the KFold class from the scikit-learn API to implement the k-fold cross-validation evaluation of a given neural network model. we are following the approach where the KFold is only used to specify the row indexes used for each split."
   ]
  },
  {
   "cell_type": "code",
   "execution_count": 95,
   "metadata": {
    "colab": {
     "base_uri": "https://localhost:8080/"
    },
    "id": "bi2XfnZl9Rj2",
    "outputId": "a3f0461b-eb63-4475-87e3-c0a71ba48e25"
   },
   "outputs": [
    {
     "name": "stdout",
     "output_type": "stream",
     "text": [
      "> 99.867\n",
      "> 99.933\n",
      "> 99.908\n",
      "> 99.950\n",
      "> 99.983\n"
     ]
    }
   ],
   "source": [
    "def evaluate_model(X,Y,n_folds=5):\n",
    "\n",
    "     scores,histories = [],[]\n",
    "     kfold = KFold(n_folds,shuffle=True,random_state=1)\n",
    "     for train_ix,test_ix in kfold.split(X):\n",
    "         x_train,y_train,x_test,y_test = X[train_ix],Y[train_ix],X[test_ix],Y[test_ix]\n",
    "         history = digit_recogonizer_model.fit(x_train,y_train,epochs=10,batch_size=32,validation_data=(x_test,y_test),verbose=0)\n",
    "         _, acc_score_model1= digit_recogonizer_model.evaluate(x_test,y_test,verbose=0)\n",
    "         print('> %.3f' % (acc_score_model1 * 100.0))\n",
    "         scores.append(acc_score_model1)\n",
    "         histories.append(history)\n",
    "     return scores,histories\n",
    "scores , histories = evaluate_model(x_train,y_train) \n"
   ]
  },
  {
   "cell_type": "code",
   "execution_count": 96,
   "metadata": {
    "colab": {
     "base_uri": "https://localhost:8080/"
    },
    "id": "6frC4TfIolCE",
    "outputId": "85811432-5e02-42ac-ca0d-695d75233c0a"
   },
   "outputs": [
    {
     "name": "stdout",
     "output_type": "stream",
     "text": [
      "Accuracy: mean=99.928 std=0.039, n=5\n"
     ]
    }
   ],
   "source": [
    "print('Accuracy: mean=%.3f std=%.3f, n=%d' % (np.mean(scores)*100, np.std(scores)*100, len(scores)))"
   ]
  },
  {
   "cell_type": "markdown",
   "metadata": {
    "id": "vEKOvim0ry5C"
   },
   "source": [
    "* Here, we can observe that the standard deviation is less than the 5% which is good."
   ]
  },
  {
   "cell_type": "code",
   "execution_count": 97,
   "metadata": {
    "id": "YzAjIxXv8EjM"
   },
   "outputs": [],
   "source": [
    "digit_recogonizer_model.save('final_model.h5')"
   ]
  },
  {
   "cell_type": "markdown",
   "metadata": {
    "id": "JQpSO8p4prZu"
   },
   "source": [
    "# **13.) Confusion Matrix of final model to check the true predictionsmade by the model for each class from 0 to 9**"
   ]
  },
  {
   "cell_type": "code",
   "execution_count": 103,
   "metadata": {
    "id": "fcxMcLlN9t-H"
   },
   "outputs": [],
   "source": [
    "from keras.models import load_model\n",
    "model = load_model('final_model.h5')"
   ]
  },
  {
   "cell_type": "code",
   "execution_count": 104,
   "metadata": {
    "id": "wr4WzcC7rDKr"
   },
   "outputs": [],
   "source": [
    "classes_Ytest2 = np.argmax(y_test, axis=1)\n",
    "Ypredict2 = model.predict(x_test) \n",
    "classes_Ypredict2 = np.argmax(Ypredict2,axis=1)"
   ]
  },
  {
   "cell_type": "code",
   "execution_count": 105,
   "metadata": {
    "id": "C2V81s5QppWZ"
   },
   "outputs": [],
   "source": [
    "from sklearn import metrics\n",
    "conf_matrix = metrics.confusion_matrix(classes_Ytest2,classes_Ypredict2)"
   ]
  },
  {
   "cell_type": "code",
   "execution_count": 106,
   "metadata": {
    "id": "awzRCS-gppvH"
   },
   "outputs": [],
   "source": [
    "def confusion_matrix(confusion_matrix, class_names, figsize = (20,10), fontsize=14):\n",
    "    \"\"\"Prints a confusion matrix, as returned by sklearn.metrics.confusion_matrix, as a heatmap.\n",
    "    \n",
    "    Arguments\n",
    "    ---------\n",
    "    confusion_matrix: numpy.ndarray\n",
    "        The numpy.ndarray object returned from a call to sklearn.metrics.confusion_matrix. \n",
    "        Similarly constructed ndarrays can also be used.\n",
    "    class_names: list\n",
    "        An ordered list of class names, in the order they index the given confusion matrix.\n",
    "    figsize: tuple\n",
    "        A 2-long tuple, the first value determining the horizontal size of the outputted figure,\n",
    "        the second determining the vertical size. \n",
    "    fontsize: int\n",
    "        Font size for axes labels. Defaults to 14.\n",
    "    \"\"\"\n",
    "    df_cm = pd.DataFrame(\n",
    "        confusion_matrix, index=class_names, columns=class_names, \n",
    "    )\n",
    "    fig = plt.figure(figsize=figsize)\n",
    "    try:\n",
    "        heatmap = sns.heatmap(df_cm, annot=True, fmt=\"d\")\n",
    "    except ValueError:\n",
    "        raise ValueError(\"Confusion matrix values must be integers.\")\n",
    "    heatmap.yaxis.set_ticklabels(heatmap.yaxis.get_ticklabels(), rotation=0, ha='right', fontsize=fontsize)\n",
    "    heatmap.xaxis.set_ticklabels(heatmap.xaxis.get_ticklabels(), rotation=45, ha='right', fontsize=fontsize)\n",
    "    plt.ylabel('Actual label')\n",
    "    plt.xlabel('Predicted label')"
   ]
  },
  {
   "cell_type": "code",
   "execution_count": 107,
   "metadata": {
    "colab": {
     "base_uri": "https://localhost:8080/",
     "height": 612
    },
    "id": "xdgRbP7Wpp4N",
    "outputId": "ee38373d-5be1-4486-ea97-8ee08a5628dc"
   },
   "outputs": [
    {
     "data": {
      "image/png": "[encoded data removed]",
      "text/plain": [
       "<Figure size 1440x720 with 2 Axes>"
      ]
     },
     "metadata": {
      "needs_background": "light"
     },
     "output_type": "display_data"
    }
   ],
   "source": [
    "class_names= range(0,10)\n",
    "confusion_matrix(conf_matrix, class_names, fontsize=14)"
   ]
  },
  {
   "cell_type": "markdown",
   "metadata": {
    "id": "lJycC5-SjARv"
   },
   "source": [
    "# **14.) Classification Report**"
   ]
  },
  {
   "cell_type": "code",
   "execution_count": 108,
   "metadata": {
    "colab": {
     "base_uri": "https://localhost:8080/"
    },
    "id": "O6b9-fxEpp9d",
    "outputId": "61b13cc9-5770-4700-ae64-e0877008a269"
   },
   "outputs": [
    {
     "name": "stdout",
     "output_type": "stream",
     "text": [
      "              precision    recall  f1-score   support\n",
      "\n",
      "           0       0.99      1.00      0.99       980\n",
      "           1       1.00      1.00      1.00      1135\n",
      "           2       0.99      0.99      0.99      1032\n",
      "           3       0.99      1.00      1.00      1010\n",
      "           4       1.00      0.99      0.99       982\n",
      "           5       0.99      0.99      0.99       892\n",
      "           6       1.00      0.99      0.99       958\n",
      "           7       0.99      0.99      0.99      1028\n",
      "           8       1.00      0.99      0.99       974\n",
      "           9       0.99      0.99      0.99      1009\n",
      "\n",
      "    accuracy                           0.99     10000\n",
      "   macro avg       0.99      0.99      0.99     10000\n",
      "weighted avg       0.99      0.99      0.99     10000\n",
      "\n"
     ]
    }
   ],
   "source": [
    "class_report = metrics.classification_report(classes_Ytest2,classes_Ypredict2)\n",
    "print(class_report)"
   ]
  },
  {
   "cell_type": "markdown",
   "metadata": {
    "id": "izk0-Suaebi3"
   },
   "source": [
    "* From **Classification report**, we can observe that the f1-score for each class is good for 1 and 3 it is giving 100% and for others its 99%.\n",
    "* And from the above **Confusion matrix**, we can notice the True predictions and false predictions made by the model for each class. \n",
    "* And by comparing the \" **Support** column values in classification report\n",
    "which is giving the count of samples/images for each label\" and the true predictions made by the model and measure the distance between these counts gives you the best understanding of false predictions made by the model for particular class label.\n",
    "* Just like for **\"0\" class label** its total count is 980 and the model predicted truly positive counts of 977 so 3 false predictions made by the model for **class \"0\"**."
   ]
  },
  {
   "cell_type": "markdown",
   "metadata": {
    "id": "yLxF0ceZqrpO"
   },
   "source": [
    "# **15.) Testing the model on a new sample image**"
   ]
  },
  {
   "cell_type": "code",
   "execution_count": 154,
   "metadata": {
    "id": "i1k5OAsnqgfd"
   },
   "outputs": [],
   "source": [
    "import tensorflow\n",
    "from tensorflow.keras.preprocessing import image\n",
    "from keras.preprocessing.image import load_img\n",
    "from keras.preprocessing.image import img_to_array"
   ]
  },
  {
   "cell_type": "code",
   "execution_count": 110,
   "metadata": {
    "colab": {
     "base_uri": "https://localhost:8080/"
    },
    "id": "xsmW-653qg3n",
    "outputId": "68456978-5200-4b3f-92c3-cb38cb015f06"
   },
   "outputs": [
    {
     "name": "stdout",
     "output_type": "stream",
     "text": [
      "Drive already mounted at /content/drive; to attempt to forcibly remount, call drive.mount(\"/content/drive\", force_remount=True).\n"
     ]
    }
   ],
   "source": [
    "from google.colab import drive\n",
    "drive.mount(\"/content/drive\")"
   ]
  },
  {
   "cell_type": "markdown",
   "metadata": {
    "id": "GJLG9qu_XCCX"
   },
   "source": [
    "## **a.) Making prediction on the follwing digit \"1\" image:**"
   ]
  },
  {
   "cell_type": "code",
   "execution_count": 152,
   "metadata": {
    "colab": {
     "base_uri": "https://localhost:8080/",
     "height": 265
    },
    "id": "vS5dOZaG_2Dm",
    "outputId": "b8da91f6-e98a-4a6f-c982-d535cf546b9b"
   },
   "outputs": [
    {
     "data": {
      "image/png": "[encoded data removed]",
      "text/plain": [
       "<Figure size 432x288 with 1 Axes>"
      ]
     },
     "metadata": {
      "needs_background": "light"
     },
     "output_type": "display_data"
    }
   ],
   "source": [
    "img_path = \"/content/one.jpg\"\n",
    "img = image.load_img(img_path,color_mode=\"grayscale\",target_size=(28,28))\n",
    "plt.imshow(img)\n",
    "plt.show()"
   ]
  },
  {
   "cell_type": "code",
   "execution_count": 153,
   "metadata": {
    "colab": {
     "base_uri": "https://localhost:8080/"
    },
    "id": "fJ1azUKbMuoj",
    "outputId": "4a956f7d-3dc5-407e-97ad-e2525457bec8"
   },
   "outputs": [
    {
     "name": "stdout",
     "output_type": "stream",
     "text": [
      "[0 1 0 0 0 0 0 0 0 0]\n"
     ]
    }
   ],
   "source": [
    "img = img_to_array(img)\n",
    "\t# reshape into a single sample with 1 channel\n",
    "img = img.reshape(1, 28, 28, 1)\n",
    "\t# prepare pixel data\n",
    "img = img.astype('float32')\n",
    "img = img / 255.0\n",
    "model = load_model('final_model.h5')\n",
    "\t# predict the class\n",
    "result = (model.predict(img) > 0.5).astype(\"int32\")\n",
    "print(result[0])\n"
   ]
  },
  {
   "cell_type": "markdown",
   "metadata": {
    "id": "1vGQ19PRcyA0"
   },
   "source": [
    "* for understanding the labels just remind the very basics of python. We all know that the python array,list's index values starts from 0.\n",
    "* And here, we're just reading the array.\n",
    "* 1 indicates the class label predicted by the model.\n",
    "* And just check read the index value of 1 it is placed on index number \"1\" which is a class label 1 and the input sample image we pass into the model is also of digit \"1\" so we can say that the model we designed predicted the class right for this sample image. \n",
    "* We can observe the index value [1] indicates 1 so the model is making true prediction for digit \"1\".\n"
   ]
  },
  {
   "cell_type": "markdown",
   "metadata": {
    "id": "lVr3wAb8XtQO"
   },
   "source": [
    "## **b.) Making prediction on the follwing digit \"0\" image:** "
   ]
  },
  {
   "cell_type": "code",
   "execution_count": 140,
   "metadata": {
    "colab": {
     "base_uri": "https://localhost:8080/",
     "height": 265
    },
    "id": "FZFiU1WtRIpb",
    "outputId": "d9590c68-2274-4975-bd2a-3f091d010d32"
   },
   "outputs": [
    {
     "data": {
      "image/png": "[encoded data removed]",
      "text/plain": [
       "<Figure size 432x288 with 1 Axes>"
      ]
     },
     "metadata": {
      "needs_background": "light"
     },
     "output_type": "display_data"
    }
   ],
   "source": [
    "img_path2 = \"/content/zero.jpg\"\n",
    "img2 = image.load_img(img_path2,color_mode=\"grayscale\",target_size=(28,28))\n",
    "plt.imshow(img2)\n",
    "plt.show()"
   ]
  },
  {
   "cell_type": "code",
   "execution_count": 141,
   "metadata": {
    "colab": {
     "base_uri": "https://localhost:8080/"
    },
    "id": "Ql8vDsPkRy0z",
    "outputId": "b43f55f3-50b0-4d16-a36a-0f76169cd7ce"
   },
   "outputs": [
    {
     "name": "stdout",
     "output_type": "stream",
     "text": [
      "[1 0 0 0 0 0 0 0 0 0]\n"
     ]
    }
   ],
   "source": [
    "img2 = img_to_array(img2)\n",
    "\t# reshape into a single sample with 1 channel\n",
    "img2 = img2.reshape(1, 28, 28, 1)\n",
    "\t# prepare pixel data\n",
    "img2 = img2.astype('float32')\n",
    "img2 = img2 / 255.0\n",
    "model = load_model('final_model.h5')\n",
    "\t# predict the class\n",
    "result = (model.predict(img2) > 0.5).astype(\"int32\")\n",
    "print(result[0])"
   ]
  },
  {
   "cell_type": "markdown",
   "metadata": {
    "id": "o79RY4SEcs4u"
   },
   "source": [
    "* We can observe the index value [0] indicates 1 so the model is making true prediction for digit \"0\"."
   ]
  },
  {
   "cell_type": "markdown",
   "metadata": {
    "id": "iu0pcnM_YArf"
   },
   "source": [
    "## **c.) Making prediction on the follwing digit \"3\" image:**"
   ]
  },
  {
   "cell_type": "code",
   "execution_count": 142,
   "metadata": {
    "colab": {
     "base_uri": "https://localhost:8080/",
     "height": 265
    },
    "id": "uqTU4m0zSG9I",
    "outputId": "e395ab2f-1927-4b73-fe40-7abe3666ac97"
   },
   "outputs": [
    {
     "data": {
      "image/png": "[encoded data removed]",
      "text/plain": [
       "<Figure size 432x288 with 1 Axes>"
      ]
     },
     "metadata": {
      "needs_background": "light"
     },
     "output_type": "display_data"
    }
   ],
   "source": [
    "img_path3 = \"/content/three.jpg\"\n",
    "img3 = image.load_img(img_path3,color_mode=\"grayscale\",target_size=(28,28))\n",
    "plt.imshow(img3)\n",
    "plt.show()"
   ]
  },
  {
   "cell_type": "code",
   "execution_count": 143,
   "metadata": {
    "colab": {
     "base_uri": "https://localhost:8080/"
    },
    "id": "vWFrX-drUGK4",
    "outputId": "ffe68647-8c34-4b67-e881-afdab908efa1"
   },
   "outputs": [
    {
     "name": "stdout",
     "output_type": "stream",
     "text": [
      "[0 0 0 1 0 0 0 0 0 0]\n"
     ]
    }
   ],
   "source": [
    "img3 = img_to_array(img3)\n",
    "\t# reshape into a single sample with 1 channel\n",
    "img3 = img3.reshape(1, 28, 28, 1)\n",
    "\t# prepare pixel data\n",
    "img3 = img3.astype('float32')\n",
    "img3 = img3 / 255.0\n",
    "model = load_model('final_model.h5')\n",
    "\t# predict the class\n",
    "result = (model.predict(img3) > 0.5).astype(\"int32\")\n",
    "print(result[0])"
   ]
  },
  {
   "cell_type": "markdown",
   "metadata": {
    "id": "5QAqRQOzcmMg"
   },
   "source": [
    "* We can observe the index value [4] indicates 1 so the model is making true prediction for digit \"3\"."
   ]
  },
  {
   "cell_type": "markdown",
   "metadata": {
    "id": "m170cSPzYIzX"
   },
   "source": [
    "## **d.) Making prediction on the follwing digit \"7\" image:**"
   ]
  },
  {
   "cell_type": "code",
   "execution_count": 147,
   "metadata": {
    "colab": {
     "base_uri": "https://localhost:8080/",
     "height": 265
    },
    "id": "RgS3bqAtUY1q",
    "outputId": "ebb2491b-2f9b-437c-f817-ca28a20c20f3"
   },
   "outputs": [
    {
     "data": {
      "image/png": "[encoded data removed]",
      "text/plain": [
       "<Figure size 432x288 with 1 Axes>"
      ]
     },
     "metadata": {
      "needs_background": "light"
     },
     "output_type": "display_data"
    }
   ],
   "source": [
    "img_path4 = \"/content/7.jpg\"\n",
    "img4 = image.load_img(img_path4,color_mode=\"grayscale\",target_size=(28,28))\n",
    "plt.imshow(img4)\n",
    "plt.show()"
   ]
  },
  {
   "cell_type": "code",
   "execution_count": 148,
   "metadata": {
    "colab": {
     "base_uri": "https://localhost:8080/"
    },
    "id": "9qgZ8NalUuwp",
    "outputId": "cb884079-1b4e-449e-8e17-d002b3f54112"
   },
   "outputs": [
    {
     "name": "stdout",
     "output_type": "stream",
     "text": [
      "[0 0 0 0 0 0 0 1 0 0]\n"
     ]
    }
   ],
   "source": [
    "img4 = img_to_array(img4)\n",
    "\t# reshape into a single sample with 1 channel\n",
    "img4 = img4.reshape(1, 28, 28, 1)\n",
    "\t# prepare pixel data\n",
    "img4 = img4.astype('float32')\n",
    "img4 = img4 / 255.0\n",
    "model = load_model('final_model.h5')\n",
    "\t# predict the class\n",
    "result = (model.predict(img4) > 0.5).astype(\"int32\")\n",
    "print(result[0])"
   ]
  },
  {
   "cell_type": "markdown",
   "metadata": {
    "id": "YZfXfpLWcgcf"
   },
   "source": [
    "* We can observe the index value [8] indicates 1 so the model is making true prediction for digit \"7\"."
   ]
  },
  {
   "cell_type": "markdown",
   "metadata": {
    "id": "SspjXgF_YSm_"
   },
   "source": [
    "# **e.) Making prediction on the follwing digit \"5\" image:**"
   ]
  },
  {
   "cell_type": "code",
   "execution_count": 149,
   "metadata": {
    "colab": {
     "base_uri": "https://localhost:8080/",
     "height": 265
    },
    "id": "nXoNeLLvVH3J",
    "outputId": "8fadcbaa-ce80-443d-be4b-82d09e633108"
   },
   "outputs": [
    {
     "data": {
      "image/png": "[encoded data removed]",
      "text/plain": [
       "<Figure size 432x288 with 1 Axes>"
      ]
     },
     "metadata": {
      "needs_background": "light"
     },
     "output_type": "display_data"
    }
   ],
   "source": [
    "img_path5 = \"/content/five.jpg\"\n",
    "img5 = image.load_img(img_path5,color_mode=\"grayscale\",target_size=(28,28))\n",
    "plt.imshow(img5)\n",
    "plt.show()"
   ]
  },
  {
   "cell_type": "code",
   "execution_count": 150,
   "metadata": {
    "colab": {
     "base_uri": "https://localhost:8080/"
    },
    "id": "x3nLL7oxWBP1",
    "outputId": "21a4a9b7-bba2-4496-fe05-24cee74650f0"
   },
   "outputs": [
    {
     "name": "stdout",
     "output_type": "stream",
     "text": [
      "[0 0 0 0 0 1 0 0 0 0]\n"
     ]
    }
   ],
   "source": [
    "img5 = img_to_array(img5)\n",
    "\t# reshape into a single sample with 1 channel\n",
    "img5 = img5.reshape(1, 28, 28, 1)\n",
    "\t# prepare pixel data\n",
    "img5 = img5.astype('float32')\n",
    "img5 = img5 / 255.0\n",
    "model = load_model('final_model.h5')\n",
    "\t# predict the class\n",
    "result = (model.predict(img5) > 0.5).astype(\"int32\")\n",
    "print(result[0])"
   ]
  },
  {
   "cell_type": "markdown",
   "metadata": {
    "id": "q6z9Rl7McEcz"
   },
   "source": [
    "* We can observe the index value [6] indicates 1 so the model is making true prediction for digit \"5\"."
   ]
  },
  {
   "cell_type": "markdown",
   "metadata": {
    "id": "lbQZAD1XYdkC"
   },
   "source": [
    "# **So, At last, After observing all the true predictions made by the model for new sample images. We can say that the model we designed here is working well for digit recogonition task. Hence, Handwritten-Digit recogonition task accomplished successfully.**"
   ]
  }
 ],
 "metadata": {
  "colab": {
   "collapsed_sections": [],
   "name": "Handwritten_digits_Classification.ipynb",
   "provenance": []
  },
  "kernelspec": {
   "display_name": "Python 3",
   "language": "python",
   "name": "python3"
  },
  "language_info": {
   "codemirror_mode": {
    "name": "ipython",
    "version": 3
   },
   "file_extension": ".py",
   "mimetype": "text/x-python",
   "name": "python",
   "nbconvert_exporter": "python",
   "pygments_lexer": "ipython3",
   "version": "3.8.8"
  }
 },
 "nbformat": 4,
 "nbformat_minor": 1
}
